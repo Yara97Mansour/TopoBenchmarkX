{
 "cells": [
  {
   "cell_type": "code",
   "execution_count": 1,
   "metadata": {},
   "outputs": [],
   "source": [
    "import ast\n",
    "import glob\n",
    "import warnings\n",
    "from collections import defaultdict\n",
    "from datetime import date\n",
    "\n",
    "import numpy as np\n",
    "import pandas as pd\n",
    "import wandb\n",
    "\n",
    "today = date.today()\n",
    "api = wandb.Api()\n",
    "\n",
    "# # Find all csv files in the current directory\n",
    "csv_files = []\n",
    "# # Collect all the names of the csv files without the extension\n",
    "csv_names = [csv_file[:-4] for csv_file in csv_files]\n",
    "project_names = [\"TopoBenchmarkX_Simplicial\", \"TopoBenchmarkX_Cellular\"]\n",
    "user = \"gbg141\"\n",
    "for project_name in project_names:\n",
    "    if project_name not in csv_names:\n",
    "        runs = api.runs(f\"{user}/{project_name}\")\n",
    "\n",
    "        summary_list, config_list, name_list = [], [], []\n",
    "        for run in runs:\n",
    "            # .summary contains the output keys/values for metrics like accuracy.\n",
    "            #  We call ._json_dict to omit large files\n",
    "            summary_list.append(run.summary._json_dict)\n",
    "\n",
    "            # .config contains the hyperparameters.\n",
    "            #  We remove special values that start with _.\n",
    "            config_list.append(\n",
    "                {k: v for k, v in run.config.items() if not k.startswith(\"_\")}\n",
    "            )\n",
    "\n",
    "            # .name is the human-readable name of the run.\n",
    "            name_list.append(run.name)\n",
    "\n",
    "        runs_df = pd.DataFrame(\n",
    "            {\"summary\": summary_list, \"config\": config_list, \"name\": name_list}\n",
    "        )\n",
    "\n",
    "        runs_df.to_csv(f\"{project_name}.csv\")\n",
    "    else:\n",
    "        runs_df = pd.read_csv(f\"{project_name}.csv\", index_col=0)\n",
    "\n",
    "        for row in runs_df.iloc:\n",
    "            row[\"summary\"] = ast.literal_eval(row[\"summary\"])\n",
    "            row[\"config\"] = ast.literal_eval(row[\"config\"])\n",
    "\n",
    "\n",
    "    for row in runs_df.iloc:\n",
    "        row[\"summary\"].update(row[\"config\"])\n",
    "\n",
    "    lst = [i[\"summary\"] for i in runs_df.iloc]\n",
    "    df = pd.DataFrame.from_dict(lst)\n",
    "\n",
    "    df_init = df.copy()\n",
    "\n",
    "    # Get average epoch run time\n",
    "    df[\"epoch_run_time\"] = df[\"_runtime\"] / df[\"epoch\"]\n",
    "\n",
    "    def normalize_column(df, column_to_normalize):\n",
    "        # Use json_normalize to flatten the nested dictionaries into separate columns\n",
    "        flattened_df = pd.json_normalize(df[column_to_normalize])\n",
    "        # Rename columns to include 'nested_column' prefix\n",
    "        flattened_df.columns = [\n",
    "            f\"{column_to_normalize}.{col}\" for col in flattened_df.columns\n",
    "        ]\n",
    "        # Concatenate the flattened DataFrame with the original DataFrame\n",
    "        result_df = pd.concat([df, flattened_df], axis=1)\n",
    "        # Get new columns names\n",
    "        new_columns = flattened_df.columns\n",
    "        # Drop the original nested column if needed\n",
    "        result_df.drop(column_to_normalize, axis=1, inplace=True)\n",
    "        return result_df, new_columns\n",
    "\n",
    "\n",
    "    # Config columns to normalize\n",
    "    columns_to_normalize = [\"model\", \"dataset\", \"callbacks\", \"paths\"]\n",
    "\n",
    "    # Keep track of config columns added\n",
    "    config_columns = []\n",
    "    for column in columns_to_normalize:\n",
    "        df, columns = normalize_column(df, column)\n",
    "        config_columns.extend(columns)\n",
    "\n",
    "\n",
    "    if project_name == \"TopoBenchmarkX_Simplicial\":\n",
    "        df['model.model_name'] = df['model.model_name'].apply(lambda x: 'sccn' if x == 'sccnn' else x)\n",
    "        \n",
    "    df.to_csv(f'{user}_{project_name}.csv')"
   ]
  },
  {
   "cell_type": "markdown",
   "metadata": {},
   "source": [
    "### See unique datasets"
   ]
  },
  {
   "cell_type": "code",
   "execution_count": 7,
   "metadata": {},
   "outputs": [
    {
     "name": "stdout",
     "output_type": "stream",
     "text": [
      "['ZINC' 'NCI109' 'NCI1' 'PROTEINS' 'MUTAG' 'minesweeper' 'roman_empire']\n",
      "Num unique datasets: 7\n"
     ]
    }
   ],
   "source": [
    "print(df['dataset.parameters.data_name'].unique())\n",
    "print(\"Num unique datasets:\", len(df['dataset.parameters.data_name'].unique()))"
   ]
  },
  {
   "cell_type": "markdown",
   "metadata": {},
   "source": [
    "## See unique models"
   ]
  },
  {
   "cell_type": "code",
   "execution_count": 8,
   "metadata": {},
   "outputs": [
    {
     "name": "stdout",
     "output_type": "stream",
     "text": [
      "['sccnn']\n"
     ]
    }
   ],
   "source": [
    "print(df['model.model_name'].unique())"
   ]
  },
  {
   "cell_type": "markdown",
   "metadata": {},
   "source": [
    "### For the simplicial runs there was an error, the truth name of sccnn is sccn "
   ]
  },
  {
   "cell_type": "code",
   "execution_count": 11,
   "metadata": {},
   "outputs": [],
   "source": []
  },
  {
   "cell_type": "markdown",
   "metadata": {},
   "source": [
    "## Solve batch problems"
   ]
  },
  {
   "cell_type": "code",
   "execution_count": 12,
   "metadata": {},
   "outputs": [
    {
     "name": "stdout",
     "output_type": "stream",
     "text": [
      "MODEL: sccn\n",
      "[1]\n",
      "[1]\n"
     ]
    }
   ],
   "source": [
    "datasets = ['minesweeper', 'roman_empire']\n",
    "models = ['sccn']\n",
    "# For the following models and datasets I mistook the batch size, it should be 1, instead of 256 or 128\n",
    "# Keep the run where batch size is 128 and then change the batch size to 1\n",
    "for model in models:\n",
    "    print(\"MODEL:\", model)\n",
    "    for dataset in datasets:\n",
    "\n",
    "        # Change the batch size to 1 when it is 128\n",
    "        \n",
    "        print(df.loc[(df['model.model_name'] == model) & (df['dataset.parameters.data_name'] == dataset), 'dataset.parameters.batch_size'].unique())\n",
    "        "
   ]
  },
  {
   "cell_type": "markdown",
   "metadata": {},
   "source": [
    "## Solve issue with projection dropout"
   ]
  },
  {
   "cell_type": "code",
   "execution_count": 13,
   "metadata": {},
   "outputs": [
    {
     "name": "stdout",
     "output_type": "stream",
     "text": [
      "[0.5  0.25]\n"
     ]
    }
   ],
   "source": [
    "print(df['model.feature_encoder.proj_dropout'].unique())"
   ]
  },
  {
   "cell_type": "code",
   "execution_count": 14,
   "metadata": {},
   "outputs": [],
   "source": [
    "# Keep rows where model.feature_encoder.proj_dropout is [0.5  0.25]\n",
    "df = df[df['model.feature_encoder.proj_dropout'].isin([0.5, 0.25])]\n"
   ]
  },
  {
   "cell_type": "code",
   "execution_count": 15,
   "metadata": {},
   "outputs": [],
   "source": [
    "df.reset_index(drop=True, inplace=True)"
   ]
  },
  {
   "cell_type": "code",
   "execution_count": 17,
   "metadata": {},
   "outputs": [],
   "source": [
    "df.to_csv('Simplicial_additional_runs.csv')"
   ]
  },
  {
   "cell_type": "markdown",
   "metadata": {},
   "source": []
  }
 ],
 "metadata": {
  "kernelspec": {
   "display_name": "topox",
   "language": "python",
   "name": "python3"
  },
  "language_info": {
   "codemirror_mode": {
    "name": "ipython",
    "version": 3
   },
   "file_extension": ".py",
   "mimetype": "text/x-python",
   "name": "python",
   "nbconvert_exporter": "python",
   "pygments_lexer": "ipython3",
   "version": "3.11.3"
  }
 },
 "nbformat": 4,
 "nbformat_minor": 2
}

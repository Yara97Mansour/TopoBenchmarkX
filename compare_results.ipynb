{
 "cells": [
  {
   "cell_type": "code",
   "execution_count": 1,
   "metadata": {},
   "outputs": [],
   "source": [
    "from topobenchmarkx.evaluators.comparisons import compare_models\n",
    "import pandas as pd\n",
    "import numpy as np"
   ]
  },
  {
   "cell_type": "code",
   "execution_count": 2,
   "metadata": {},
   "outputs": [],
   "source": [
    "def process_csv(file_path):\n",
    "    # Read the CSV file, skipping the first row and setting the first column as the index\n",
    "    df = pd.read_csv(file_path, skiprows=0, index_col=0)\n",
    "    \n",
    "    # Extract the names from the first column (index)\n",
    "    names = df.index.tolist()\n",
    "    \n",
    "    # Initialize an empty list to hold the lists of first values\n",
    "    results = []\n",
    "    \n",
    "    # Iterate over each row in the DataFrame\n",
    "    for _, row in df.iterrows():\n",
    "        # Split each cell by '±' and take the first part, convert to float and collect them in a list\n",
    "        row_first_values = [float(cell.split('±')[0]) if isinstance(cell, str) else np.nan for cell in row]\n",
    "        results.append(row_first_values)\n",
    "    \n",
    "    return names, np.array(results)"
   ]
  },
  {
   "cell_type": "code",
   "execution_count": 3,
   "metadata": {},
   "outputs": [
    {
     "name": "stdout",
     "output_type": "stream",
     "text": [
      "P-value for Wilcoxon test between models 1 and 3: 0.8237285614013672\n",
      "P-value for Wilcoxon test between models 1 and 7: 0.9728584289550781\n",
      "P-value for Wilcoxon test between models 1 and 0: 0.01787281036376953\n",
      "P-value for Wilcoxon test between models 3 and 7: 0.7079343795776367\n",
      "P-value for Wilcoxon test between models 3 and 0: 0.11287164688110352\n",
      "P-value for Wilcoxon test between models 3 and 2: 0.5028400421142578\n",
      "P-value for Wilcoxon test between models 3 and 6: 0.5620746612548828\n",
      "P-value for Wilcoxon test between models 3 and 4: 0.5879268646240234\n",
      "P-value for Wilcoxon test between models 3 and 8: 0.8917322158813477\n",
      "P-value for Wilcoxon test between models 3 and 5: 0.020858287811279297\n",
      "P-value for Wilcoxon test between models 7 and 0: 0.21568012237548828\n",
      "P-value for Wilcoxon test between models 7 and 2: 0.35541629791259766\n",
      "P-value for Wilcoxon test between models 7 and 6: 0.945744514465332\n",
      "P-value for Wilcoxon test between models 7 and 4: 0.2942523956298828\n",
      "P-value for Wilcoxon test between models 7 and 8: 0.05019187927246094\n",
      "P-value for Wilcoxon test between models 7 and 5: 0.21568012237548828\n",
      "P-value for Wilcoxon test between models 7 and 9: 0.36827659606933594\n",
      "P-value for Wilcoxon test between models 7 and 11: 0.3117942810058594\n",
      "P-value for Wilcoxon test between models 7 and 10: 0.05316925048828125\n",
      "P-value for Wilcoxon test between models 0 and 2: 0.6433901786804199\n",
      "P-value for Wilcoxon test between models 0 and 6: 0.3376598358154297\n",
      "P-value for Wilcoxon test between models 0 and 4: 0.4825911521911621\n",
      "P-value for Wilcoxon test between models 0 and 8: 0.9728584289550781\n",
      "P-value for Wilcoxon test between models 0 and 5: 0.0036711692810058594\n",
      "P-value for Wilcoxon test between models 2 and 6: 0.3038158416748047\n",
      "P-value for Wilcoxon test between models 2 and 4: 0.6556386947631836\n",
      "P-value for Wilcoxon test between models 2 and 8: 0.7334699630737305\n",
      "P-value for Wilcoxon test between models 2 and 5: 0.08219528198242188\n",
      "P-value for Wilcoxon test between models 2 and 9: 0.4304332733154297\n",
      "P-value for Wilcoxon test between models 2 and 11: 0.38837623596191406\n",
      "P-value for Wilcoxon test between models 2 and 10: 0.13272666931152344\n",
      "P-value for Wilcoxon test between models 6 and 4: 0.16780662536621094\n",
      "P-value for Wilcoxon test between models 6 and 8: 0.11934185028076172\n",
      "P-value for Wilcoxon test between models 6 and 5: 0.10539817810058594\n",
      "P-value for Wilcoxon test between models 6 and 9: 0.36827659606933594\n",
      "P-value for Wilcoxon test between models 6 and 11: 0.17685317993164062\n",
      "P-value for Wilcoxon test between models 6 and 10: 0.06372261047363281\n",
      "P-value for Wilcoxon test between models 4 and 8: 0.8381938934326172\n",
      "P-value for Wilcoxon test between models 4 and 5: 0.27562665939331055\n",
      "P-value for Wilcoxon test between models 4 and 9: 0.40909767150878906\n",
      "P-value for Wilcoxon test between models 4 and 11: 0.5705966949462891\n",
      "P-value for Wilcoxon test between models 4 and 10: 0.34881019592285156\n",
      "P-value for Wilcoxon test between models 8 and 5: 0.8648872375488281\n",
      "P-value for Wilcoxon test between models 8 and 9: 0.09730720520019531\n",
      "P-value for Wilcoxon test between models 8 and 11: 0.7841262817382812\n",
      "P-value for Wilcoxon test between models 8 and 10: 0.021484375\n",
      "P-value for Wilcoxon test between models 5 and 9: 0.6215133666992188\n",
      "P-value for Wilcoxon test between models 5 and 11: 0.36827659606933594\n",
      "P-value for Wilcoxon test between models 5 and 10: 0.26109886169433594\n",
      "P-value for Wilcoxon test between models 9 and 11: 0.8408222198486328\n",
      "P-value for Wilcoxon test between models 9 and 10: 0.10539817810058594\n",
      "P-value for Wilcoxon test between models 11 and 10: 0.026641845703125\n",
      "--------------------------------------------------\n",
      "name | average rank\n",
      "GCN  | 5.565\n",
      "GAT  | 4.283\n",
      "GIN  | 5.587\n",
      "AllSetTransformer  | 4.587\n",
      "EDGNN  | 6.174\n",
      "UniGNN2  | 7.065\n",
      "CWN  | 6.087\n",
      "CCCN  | 5.457\n",
      "CCXN  | 7.043\n",
      "SCN  | 7.326\n",
      "SCCN  | 9.022\n",
      "SCCNN  | 7.848\n",
      "[[1, 3, 7], [3, 7, 0, 2, 6, 4, 8], [7, 0, 2, 6, 4, 8, 5, 9, 11, 10], [0, 2, 6, 4, 8], [2, 6, 4, 8, 5, 9, 11, 10], [6, 4, 8, 5, 9, 11, 10], [4, 8, 5, 9, 11, 10], [8, 5, 9, 11], [5, 9, 11, 10], [9, 11, 10], [11], [10]]\n"
     ]
    }
   ],
   "source": [
    "file_path = './results/main_results.csv'\n",
    "names, results = process_csv(file_path)\n",
    "\n",
    "higher_better = np.array([[1,1,1,1,1,1,1,1,1,1,-1,-1,-1,-1,-1,-1,-1,1,1,1,1,1,-1]]).repeat(results.shape[0],0)\n",
    "results = results * higher_better\n",
    "\n",
    "ranks, groups = compare_models(results, verbose=True)\n",
    "print(\"-\"*50)\n",
    "print('name | average rank')\n",
    "for name, rank in zip(names, ranks):\n",
    "    print(f'{name}  | {round(rank,3)}')\n",
    "print(groups)"
   ]
  },
  {
   "cell_type": "code",
   "execution_count": null,
   "metadata": {},
   "outputs": [],
   "source": []
  }
 ],
 "metadata": {
  "kernelspec": {
   "display_name": "Python 3",
   "language": "python",
   "name": "python3"
  },
  "language_info": {
   "codemirror_mode": {
    "name": "ipython",
    "version": 3
   },
   "file_extension": ".py",
   "mimetype": "text/x-python",
   "name": "python",
   "nbconvert_exporter": "python",
   "pygments_lexer": "ipython3",
   "version": "3.11.3"
  },
  "orig_nbformat": 4
 },
 "nbformat": 4,
 "nbformat_minor": 2
}

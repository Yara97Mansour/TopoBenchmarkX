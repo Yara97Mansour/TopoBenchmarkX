{
 "cells": [
  {
   "cell_type": "code",
   "execution_count": 1,
   "metadata": {},
   "outputs": [],
   "source": [
    "from topobenchmarkx.evaluators.comparisons import compare_models\n",
    "import pandas as pd\n",
    "import numpy as np"
   ]
  },
  {
   "cell_type": "code",
   "execution_count": 2,
   "metadata": {},
   "outputs": [],
   "source": [
    "def process_csv(file_path):\n",
    "    # Read the CSV file, skipping the first row and setting the first column as the index\n",
    "    df = pd.read_csv(file_path, skiprows=0, index_col=0)\n",
    "    \n",
    "    # Extract the names from the first column (index)\n",
    "    names = df.index.tolist()\n",
    "    \n",
    "    # Initialize an empty list to hold the lists of first values\n",
    "    results = []\n",
    "    \n",
    "    # Iterate over each row in the DataFrame\n",
    "    for _, row in df.iterrows():\n",
    "        # Split each cell by '±' and take the first part, convert to float and collect them in a list\n",
    "        row_first_values = [float(cell.split('±')[0]) for cell in row]\n",
    "        results.append(row_first_values)\n",
    "    \n",
    "    return names, np.array(results)"
   ]
  },
  {
   "cell_type": "code",
   "execution_count": 3,
   "metadata": {},
   "outputs": [
    {
     "name": "stdout",
     "output_type": "stream",
     "text": [
      "The Friedman test confirmed the null-hypothesis with p-value of 0.6659148918694477\n",
      "name | average rank\n",
      "gcn  | 1.783\n",
      "gat  | 2.087\n",
      "gin  | 2.13\n"
     ]
    }
   ],
   "source": [
    "file_path = './results/best_results_graph.csv'\n",
    "names, results = process_csv(file_path)\n",
    "\n",
    "ranks, groups = compare_models(results, verbose=True)\n",
    "\n",
    "print('name | average rank')\n",
    "sorted = np.argsort(ranks)\n",
    "for i,s in enumerate(sorted):\n",
    "    print(names[s] + '  | ' + str(round(ranks[s],3)))"
   ]
  }
 ],
 "metadata": {
  "kernelspec": {
   "display_name": "Python 3",
   "language": "python",
   "name": "python3"
  },
  "language_info": {
   "codemirror_mode": {
    "name": "ipython",
    "version": 3
   },
   "file_extension": ".py",
   "mimetype": "text/x-python",
   "name": "python",
   "nbconvert_exporter": "python",
   "pygments_lexer": "ipython3",
   "version": "3.11.3"
  },
  "orig_nbformat": 4
 },
 "nbformat": 4,
 "nbformat_minor": 2
}
